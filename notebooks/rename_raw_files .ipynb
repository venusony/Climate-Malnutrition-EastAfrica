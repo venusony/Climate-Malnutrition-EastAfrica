{
 "cells": [
  {
   "cell_type": "code",
   "execution_count": 1,
   "id": "8b6c94a9-c893-4a29-85ab-d0eae3af2521",
   "metadata": {},
   "outputs": [
    {
     "name": "stdout",
     "output_type": "stream",
     "text": [
      "unzipped folder: C:\\Users\\venus\\OneDrive\\Documents\\GitHub\\Climate-Malnutrition-EastAfrica\\data_raw\\unzipped\n"
     ]
    },
    {
     "data": {
      "text/plain": [
       "['ETKR41DT',\n",
       " 'ETKR51DT',\n",
       " 'ETKR61DT',\n",
       " 'ETKR71DT',\n",
       " 'ETKR81DT',\n",
       " 'KEKR01DT',\n",
       " 'KEKR31DT',\n",
       " 'KEKR3ADT',\n",
       " 'KEKR42DT',\n",
       " 'KEKR52DT',\n",
       " 'KEKR72DT',\n",
       " 'KEKR8CDT',\n",
       " 'TZKR21DT',\n",
       " 'TZKR3ADT',\n",
       " 'TZKR41DT',\n",
       " 'TZKR4IDT',\n",
       " 'TZKR63DT',\n",
       " 'TZKR7BDT',\n",
       " 'TZKR82DT',\n",
       " 'UGKR01DT',\n",
       " 'UGKR33DT',\n",
       " 'UGKR41DT',\n",
       " 'UGKR52DT',\n",
       " 'UGKR61DT',\n",
       " 'UGKR7BDT']"
      ]
     },
     "execution_count": 1,
     "metadata": {},
     "output_type": "execute_result"
    }
   ],
   "source": [
    "# step 1: imports and checking the folder\n",
    "from pathlib import Path\n",
    "\n",
    "unzipped = Path(r\"C:\\Users\\venus\\OneDrive\\Documents\\GitHub\\Climate-Malnutrition-EastAfrica\\data_raw\\unzipped\")\n",
    "print(\"unzipped folder:\", unzipped)\n",
    "\n",
    "# just checking what folders are there\n",
    "[f.name for f in unzipped.iterdir() if f.is_dir()]\n"
   ]
  },
  {
   "cell_type": "code",
   "execution_count": 3,
   "id": "e5c432a0-e1e2-4f4d-a037-3d85cf585ce0",
   "metadata": {},
   "outputs": [
    {
     "name": "stdout",
     "output_type": "stream",
     "text": [
      "renamed: ETKR41FL.DTA → Ethiopia_KR_2005.dta\n",
      "renamed: ETKR51FL.DTA → Ethiopia_KR_51.dta\n",
      "renamed: ETKR61FL.DTA → Ethiopia_KR_2011.dta\n",
      "renamed: ETKR71FL.DTA → Ethiopia_KR_2016.dta\n",
      "renamed: ETKR81FL.DTA → Ethiopia_KR_2021.dta\n",
      "renamed: KEKR01FL.DTA → Kenya_KR_1988.dta\n",
      "renamed: KEKR31FL.DTA → Kenya_KR_1998.dta\n",
      "renamed: KEKR3AFL.DTA → Kenya_KR_1999.dta\n",
      "renamed: KEKR42FL.DTA → Kenya_KR_2008.dta\n",
      "renamed: KEKR52FL.DTA → Kenya_KR_2010.dta\n",
      "renamed: KEKR72FL.DTA → Kenya_KR_72.dta\n",
      "renamed: KEKR8CFL.DTA → Kenya_KR_2022.dta\n",
      "renamed: TZKR21FL.DTA → Tanzania_KR_1996.dta\n",
      "renamed: TZKR3AFL.DTA → Tanzania_KR_1999.dta\n",
      "renamed: TZKR41FL.DTA → Tanzania_KR_2005.dta\n",
      "renamed: TZKR4IFL.DTA → Tanzania_KR_2007.dta\n",
      "renamed: TZKR63FL.DTA → Tanzania_KR_2013.dta\n",
      "renamed: TZKR7BFL.DTA → Tanzania_KR_2018.dta\n",
      "renamed: TZKR82FL.DTA → Tanzania_KR_2023.dta\n",
      "renamed: UGKR01FL.DTA → Uganda_KR_1988.dta\n",
      "renamed: UGKR33FL.DTA → Uganda_KR_2000.dta\n",
      "renamed: UGKR41FL.DTA → Uganda_KR_2005.dta\n",
      "renamed: UGKR52FL.DTA → Uganda_KR_2010.dta\n",
      "renamed: UGKR61FL.DTA → Uganda_KR_2011.dta\n",
      "renamed: UGKR7BFL.DTA → Uganda_KR_2018.dta\n"
     ]
    }
   ],
   "source": [
    "# this script goes inside each folder listed above and renames the .dta files\n",
    "# so ETKR41FL.DTA → Ethiopia_KR_2000.dta, KEKR52FL.DTA → Kenya_KR_2008.dta, etc.\n",
    "# i kept it super readable and not complicated at all\n",
    "\n",
    "import os\n",
    "from pathlib import Path\n",
    "\n",
    "# my main unzipped folder\n",
    "unzipped = Path(r\"C:\\Users\\venus\\OneDrive\\Documents\\GitHub\\Climate-Malnutrition-EastAfrica\\data_raw\\unzipped\")\n",
    "\n",
    "# this dictionary helps me turn country code → name\n",
    "country_map = {\n",
    "    \"ET\": \"Ethiopia\",\n",
    "    \"KE\": \"Kenya\",\n",
    "    \"TZ\": \"Tanzania\",\n",
    "    \"UG\": \"Uganda\"\n",
    "}\n",
    "\n",
    "# and this one turns phase → approximate survey year\n",
    "year_map = {\n",
    "    \"01\": \"1988\",\n",
    "    \"17\": \"1992\",\n",
    "    \"21\": \"1996\",\n",
    "    \"31\": \"1998\",\n",
    "    \"3A\": \"1999\",\n",
    "    \"33\": \"2000\",\n",
    "    \"41\": \"2005\",\n",
    "    \"4I\": \"2007\",\n",
    "    \"42\": \"2008\",\n",
    "    \"52\": \"2010\",\n",
    "    \"61\": \"2011\",\n",
    "    \"63\": \"2013\",\n",
    "    \"71\": \"2016\",\n",
    "    \"7B\": \"2018\",\n",
    "    \"8C\": \"2022\",\n",
    "    \"81\": \"2021\",\n",
    "    \"82\": \"2023\"\n",
    "}\n",
    "\n",
    "# loop through every folder\n",
    "for folder in unzipped.iterdir():\n",
    "    if not folder.is_dir():\n",
    "        continue\n",
    "\n",
    "    for file in folder.glob(\"*.dta\"):\n",
    "        old_name = file.stem  # like ETKR41FL\n",
    "        cc = old_name[:2]     # ET, KE, TZ, UG\n",
    "        country = country_map.get(cc, cc)\n",
    "        file_type = old_name[2:4]   # KR\n",
    "        phase = old_name[4:6]       # 41, 52, etc.\n",
    "\n",
    "        # look up year\n",
    "        year = year_map.get(phase, phase)\n",
    "\n",
    "        new_name = f\"{country}_{file_type}_{year}.dta\"\n",
    "        new_path = file.with_name(new_name)\n",
    "\n",
    "        os.rename(file, new_path)\n",
    "        print(\"renamed:\", file.name, \"→\", new_name)\n"
   ]
  },
  {
   "cell_type": "code",
   "execution_count": 5,
   "id": "07bf08d4-da0a-46e4-b58e-9cc3cc962cea",
   "metadata": {},
   "outputs": [
    {
     "name": "stdout",
     "output_type": "stream",
     "text": [
      "ETKR41DT → ['Ethiopia_KR_2005.dta']\n",
      "ETKR51DT → ['Ethiopia_KR_51.dta']\n",
      "ETKR61DT → ['Ethiopia_KR_2011.dta']\n",
      "ETKR71DT → ['Ethiopia_KR_2016.dta']\n",
      "ETKR81DT → ['Ethiopia_KR_2021.dta']\n",
      "KEKR01DT → ['Kenya_KR_1988.dta']\n",
      "KEKR31DT → ['Kenya_KR_1998.dta']\n",
      "KEKR3ADT → ['Kenya_KR_1999.dta']\n",
      "KEKR42DT → ['Kenya_KR_2008.dta']\n",
      "KEKR52DT → ['Kenya_KR_2010.dta']\n",
      "KEKR72DT → ['Kenya_KR_72.dta']\n",
      "KEKR8CDT → ['Kenya_KR_2022.dta']\n",
      "TZKR21DT → ['Tanzania_KR_1996.dta']\n",
      "TZKR3ADT → ['Tanzania_KR_1999.dta']\n",
      "TZKR41DT → ['Tanzania_KR_2005.dta']\n",
      "TZKR4IDT → ['Tanzania_KR_2007.dta']\n",
      "TZKR63DT → ['Tanzania_KR_2013.dta']\n",
      "TZKR7BDT → ['Tanzania_KR_2018.dta']\n",
      "TZKR82DT → ['Tanzania_KR_2023.dta']\n",
      "UGKR01DT → ['Uganda_KR_1988.dta']\n",
      "UGKR33DT → ['Uganda_KR_2000.dta']\n",
      "UGKR41DT → ['Uganda_KR_2005.dta']\n",
      "UGKR52DT → ['Uganda_KR_2010.dta']\n",
      "UGKR61DT → ['Uganda_KR_2011.dta']\n",
      "UGKR7BDT → ['Uganda_KR_2018.dta']\n"
     ]
    }
   ],
   "source": [
    "# quick check that names changed correctly\n",
    "for folder in unzipped.iterdir():\n",
    "    dta_files = list(folder.glob(\"*.dta\"))\n",
    "    if dta_files:\n",
    "        print(folder.name, \"→\", [f.name for f in dta_files])\n"
   ]
  },
  {
   "cell_type": "code",
   "execution_count": null,
   "id": "4571f93a-e6af-4d52-a2d1-9988ea1cf21d",
   "metadata": {},
   "outputs": [],
   "source": []
  }
 ],
 "metadata": {
  "kernelspec": {
   "display_name": "Python 3 (ipykernel)",
   "language": "python",
   "name": "python3"
  },
  "language_info": {
   "codemirror_mode": {
    "name": "ipython",
    "version": 3
   },
   "file_extension": ".py",
   "mimetype": "text/x-python",
   "name": "python",
   "nbconvert_exporter": "python",
   "pygments_lexer": "ipython3",
   "version": "3.12.3"
  }
 },
 "nbformat": 4,
 "nbformat_minor": 5
}

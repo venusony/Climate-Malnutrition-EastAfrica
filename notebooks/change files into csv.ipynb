{
 "cells": [
  {
   "cell_type": "code",
   "execution_count": 1,
   "id": "4bb9656d-0d39-48f7-8b57-2a3907145e80",
   "metadata": {},
   "outputs": [
    {
     "name": "stdout",
     "output_type": "stream",
     "text": [
      "done exporting all csv files!\n",
      "my csvs are saved inside: C:\\Users\\venus\\OneDrive\\Documents\\GitHub\\Climate-Malnutrition-EastAfrica\\data_cleaned\\standardized\\csv_exports\n"
     ]
    }
   ],
   "source": [
    "# converting my cleaned parquet files into csvs\n",
    "# so i can easily open and check them in excel or vscode\n",
    "\n",
    "from pathlib import Path\n",
    "import pandas as pd\n",
    "\n",
    "# path to the folder where my standardized parquet files are saved\n",
    "std_dir = Path(r\"C:\\Users\\venus\\OneDrive\\Documents\\GitHub\\Climate-Malnutrition-EastAfrica\\data_cleaned\\standardized\")\n",
    "\n",
    "# create a new folder inside it for csv copies\n",
    "csv_dir = std_dir / \"csv_exports\"\n",
    "csv_dir.mkdir(parents=True, exist_ok=True)\n",
    "\n",
    "# loop through every .parquet file in the standardized folder\n",
    "for f in sorted(std_dir.glob(\"*.parquet\")):\n",
    "    # read the parquet file into a pandas dataframe\n",
    "    df = pd.read_parquet(f)\n",
    "    \n",
    "    # make a matching csv filename\n",
    "    out = csv_dir / f.name.replace(\".parquet\", \".csv\")\n",
    "    \n",
    "    # save the dataframe as csv (no index column)\n",
    "    df.to_csv(out, index=False)\n",
    "    \n",
    "    # quick print so i can see progress\n",
    "    print(\"exported:\", out.name)\n",
    "\n",
    "print(\"done exporting all csv files!\")\n",
    "print(\"my csvs are saved inside:\", csv_dir)\n"
   ]
  },
  {
   "cell_type": "code",
   "execution_count": null,
   "id": "d91f7a65-d42f-467f-8241-4e38bef5db1d",
   "metadata": {},
   "outputs": [],
   "source": []
  }
 ],
 "metadata": {
  "kernelspec": {
   "display_name": "Python 3 (ipykernel)",
   "language": "python",
   "name": "python3"
  },
  "language_info": {
   "codemirror_mode": {
    "name": "ipython",
    "version": 3
   },
   "file_extension": ".py",
   "mimetype": "text/x-python",
   "name": "python",
   "nbconvert_exporter": "python",
   "pygments_lexer": "ipython3",
   "version": "3.12.3"
  }
 },
 "nbformat": 4,
 "nbformat_minor": 5
}

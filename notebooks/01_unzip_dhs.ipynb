{
 "cells": [
  {
   "cell_type": "code",
   "execution_count": 1,
   "id": "b7541103-d813-488f-aaea-4d0b8129cf42",
   "metadata": {},
   "outputs": [
    {
     "name": "stdout",
     "output_type": "stream",
     "text": [
      "ZIP folder: True  | path: ..\\data_raw\\DHS_zip\n",
      "DTA folder: True  | path: ..\\data_raw\\DHS_dta\n"
     ]
    }
   ],
   "source": [
    "from pathlib import Path\n",
    "\n",
    "# set up your folder paths\n",
    "REPO = Path(\"..\")  # move one level up from notebooks folder\n",
    "RAW_ZIP = REPO / \"data_raw\" / \"DHS_zip\"\n",
    "RAW_DTA = REPO / \"data_raw\" / \"DHS_dta\"\n",
    "\n",
    "print(\"ZIP folder:\", RAW_ZIP.exists(), \" | path:\", RAW_ZIP)\n",
    "print(\"DTA folder:\", RAW_DTA.exists(), \" | path:\", RAW_DTA)\n"
   ]
  },
  {
   "cell_type": "code",
   "execution_count": 3,
   "id": "3712ab2a-1d15-484d-b1b0-e30f3a1d8ff2",
   "metadata": {},
   "outputs": [
    {
     "name": "stdout",
     "output_type": "stream",
     "text": [
      "Extracted from: ETKR41DT.zip\n",
      "Extracted from: ETKR51DT.zip\n",
      "Extracted from: ETKR61DT.zip\n",
      "Extracted from: ETKR71DT.zip\n",
      "Extracted from: ETKR81DT.zip\n",
      "Extracted from: KEKR01DT.zip\n",
      "Extracted from: KEKR31DT.zip\n",
      "Extracted from: KEKR3ADT.zip\n",
      "Extracted from: KEKR42DT.zip\n",
      "Extracted from: KEKR52DT.zip\n",
      "Extracted from: KEKR72DT.zip\n",
      "Extracted from: KEKR8CDT.zip\n",
      "Extracted from: TZKR21DT.zip\n",
      "Extracted from: TZKR3ADT.zip\n",
      "Extracted from: TZKR41DT.zip\n",
      "Extracted from: TZKR4IDT.zip\n",
      "Extracted from: TZKR63DT.zip\n",
      "Extracted from: TZKR7BDT.zip\n",
      "Extracted from: TZKR82DT.zip\n",
      "Extracted from: UGKR01DT.zip\n",
      "Extracted from: UGKR33DT.zip\n",
      "Extracted from: UGKR41DT.zip\n",
      "Extracted from: UGKR52DT.zip\n",
      "Extracted from: UGKR61DT.zip\n",
      "Extracted from: UGKR7BDT.zip\n",
      "\n",
      "✅ Done. Extracted 25 .DTA files total.\n"
     ]
    }
   ],
   "source": [
    "import zipfile\n",
    "\n",
    "RAW_DTA.mkdir(parents=True, exist_ok=True)\n",
    "\n",
    "count = 0\n",
    "for zip_path in RAW_ZIP.glob(\"*.zip\"):\n",
    "    with zipfile.ZipFile(zip_path) as zf:\n",
    "        for name in zf.namelist():\n",
    "            if name.lower().endswith(\".dta\"):\n",
    "                # extract and flatten folder structure\n",
    "                zf.extract(name, RAW_DTA)\n",
    "                src = RAW_DTA / name\n",
    "                flat = RAW_DTA / Path(name).name\n",
    "                if src.exists() and src != flat:\n",
    "                    src.rename(flat)\n",
    "                count += 1\n",
    "    print(f\"Extracted from: {zip_path.name}\")\n",
    "print(f\"\\n✅ Done. Extracted {count} .DTA files total.\")\n"
   ]
  },
  {
   "cell_type": "code",
   "execution_count": 5,
   "id": "eb73ec87-5da6-4d23-afc8-237283d9be0a",
   "metadata": {},
   "outputs": [
    {
     "data": {
      "text/plain": [
       "[WindowsPath('../data_raw/DHS_dta/ETKR41FL.DTA'),\n",
       " WindowsPath('../data_raw/DHS_dta/ETKR51FL.DTA'),\n",
       " WindowsPath('../data_raw/DHS_dta/ETKR61FL.DTA'),\n",
       " WindowsPath('../data_raw/DHS_dta/ETKR71FL.DTA'),\n",
       " WindowsPath('../data_raw/DHS_dta/ETKR81FL.DTA'),\n",
       " WindowsPath('../data_raw/DHS_dta/KEKR01FL.DTA'),\n",
       " WindowsPath('../data_raw/DHS_dta/KEKR31FL.DTA'),\n",
       " WindowsPath('../data_raw/DHS_dta/KEKR3AFL.DTA'),\n",
       " WindowsPath('../data_raw/DHS_dta/KEKR42FL.DTA'),\n",
       " WindowsPath('../data_raw/DHS_dta/KEKR52FL.DTA')]"
      ]
     },
     "execution_count": 5,
     "metadata": {},
     "output_type": "execute_result"
    }
   ],
   "source": [
    "list(RAW_DTA.glob(\"*.DTA\"))[:10]\n"
   ]
  },
  {
   "cell_type": "code",
   "execution_count": null,
   "id": "1d6cbdda-0243-4b05-a01a-eb5025ed5337",
   "metadata": {},
   "outputs": [],
   "source": []
  }
 ],
 "metadata": {
  "kernelspec": {
   "display_name": "Python 3 (ipykernel)",
   "language": "python",
   "name": "python3"
  },
  "language_info": {
   "codemirror_mode": {
    "name": "ipython",
    "version": 3
   },
   "file_extension": ".py",
   "mimetype": "text/x-python",
   "name": "python",
   "nbconvert_exporter": "python",
   "pygments_lexer": "ipython3",
   "version": "3.12.3"
  }
 },
 "nbformat": 4,
 "nbformat_minor": 5
}

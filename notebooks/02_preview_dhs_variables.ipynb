{
 "cells": [
  {
   "cell_type": "code",
   "execution_count": 1,
   "id": "d61354ea-82cf-424b-b874-e93bffa9878a",
   "metadata": {},
   "outputs": [
    {
     "name": "stdout",
     "output_type": "stream",
     "text": [
      "DTA folder exists: True | path: ..\\data_raw\\DHS_dta\n",
      "Clean folder exists: True | path: ..\\data_cleaned\n"
     ]
    }
   ],
   "source": [
    "from pathlib import Path\n",
    "import pandas as pd\n",
    "\n",
    "# assume this notebook lives in notebooks/\n",
    "REPO   = Path(\"..\")\n",
    "RAW_DTA = REPO / \"data_raw\" / \"DHS_dta\"\n",
    "CLEAN   = REPO / \"data_cleaned\"\n",
    "\n",
    "print(\"DTA folder exists:\", RAW_DTA.exists(), \"| path:\", RAW_DTA)\n",
    "print(\"Clean folder exists:\", CLEAN.exists(), \"| path:\", CLEAN)\n"
   ]
  },
  {
   "cell_type": "code",
   "execution_count": 7,
   "id": "7e1f0ef2-0880-4645-8ffe-11ffccde9e11",
   "metadata": {},
   "outputs": [
    {
     "name": "stdout",
     "output_type": "stream",
     "text": [
      "Total DHS files found: 25\n"
     ]
    },
    {
     "data": {
      "text/plain": [
       "[WindowsPath('../data_raw/DHS_dta/ETKR41FL.DTA'),\n",
       " WindowsPath('../data_raw/DHS_dta/ETKR51FL.DTA'),\n",
       " WindowsPath('../data_raw/DHS_dta/ETKR61FL.DTA'),\n",
       " WindowsPath('../data_raw/DHS_dta/ETKR71FL.DTA'),\n",
       " WindowsPath('../data_raw/DHS_dta/ETKR81FL.DTA')]"
      ]
     },
     "execution_count": 7,
     "metadata": {},
     "output_type": "execute_result"
    }
   ],
   "source": [
    "from pathlib import Path\n",
    "import pandas as pd\n",
    "\n",
    "# locate the DHS files\n",
    "REPO = Path(\"..\")\n",
    "RAW_DTA = REPO / \"data_raw\" / \"DHS_dta\"\n",
    "\n",
    "# list all .DTA files\n",
    "files = sorted(RAW_DTA.glob(\"*.DTA\"))\n",
    "print(\"Total DHS files found:\", len(files))\n",
    "files[:5]\n"
   ]
  },
  {
   "cell_type": "code",
   "execution_count": 9,
   "id": "3d8f5afe-a71d-4e2a-ac05-6546cbb68fcc",
   "metadata": {},
   "outputs": [
    {
     "data": {
      "text/plain": [
       "(25,\n",
       " [WindowsPath('../data_raw/DHS_dta/ETKR41FL.DTA'),\n",
       "  WindowsPath('../data_raw/DHS_dta/ETKR51FL.DTA'),\n",
       "  WindowsPath('../data_raw/DHS_dta/ETKR61FL.DTA'),\n",
       "  WindowsPath('../data_raw/DHS_dta/ETKR71FL.DTA'),\n",
       "  WindowsPath('../data_raw/DHS_dta/ETKR81FL.DTA')])"
      ]
     },
     "execution_count": 9,
     "metadata": {},
     "output_type": "execute_result"
    }
   ],
   "source": [
    "files = sorted(RAW_DTA.glob(\"*.DTA\"))\n",
    "len(files), files[:5]\n"
   ]
  },
  {
   "cell_type": "code",
   "execution_count": 13,
   "id": "234457f2-3e9c-429f-a919-3eb6c4879af7",
   "metadata": {},
   "outputs": [
    {
     "data": {
      "text/plain": [
       "WindowsPath('../data_raw/DHS_dta/ETKR41FL.DTA')"
      ]
     },
     "execution_count": 13,
     "metadata": {},
     "output_type": "execute_result"
    }
   ],
   "source": [
    "# pick one file to test\n",
    "test_file = files[0]   # this just picks the first DHS file it found\n",
    "test_file\n"
   ]
  },
  {
   "cell_type": "code",
   "execution_count": 15,
   "id": "555e52cd-3b7c-41fe-8ed4-d1c07b053c42",
   "metadata": {},
   "outputs": [
    {
     "name": "stdout",
     "output_type": "stream",
     "text": [
      "ETKR41FL.DTA | rows: 10873 | cols: 881\n"
     ]
    },
    {
     "data": {
      "text/plain": [
       "['caseid',\n",
       " 'v000',\n",
       " 'v001',\n",
       " 'v002',\n",
       " 'v003',\n",
       " 'v004',\n",
       " 'v005',\n",
       " 'v006',\n",
       " 'v007',\n",
       " 'v008',\n",
       " 'v009',\n",
       " 'v010',\n",
       " 'v011',\n",
       " 'v012',\n",
       " 'v013',\n",
       " 'v014',\n",
       " 'v015',\n",
       " 'v016',\n",
       " 'v017',\n",
       " 'v018',\n",
       " 'v019',\n",
       " 'v019a',\n",
       " 'v020',\n",
       " 'v021',\n",
       " 'v022',\n",
       " 'v023',\n",
       " 'v024',\n",
       " 'v025',\n",
       " 'v026',\n",
       " 'v027',\n",
       " 'v028',\n",
       " 'v029',\n",
       " 'v030',\n",
       " 'v031',\n",
       " 'v032',\n",
       " 'v033',\n",
       " 'v034',\n",
       " 'v040',\n",
       " 'v042',\n",
       " 'v043']"
      ]
     },
     "execution_count": 15,
     "metadata": {},
     "output_type": "execute_result"
    }
   ],
   "source": [
    "df = pd.read_stata(test_file, convert_categoricals=False)\n",
    "df.columns = df.columns.str.lower()\n",
    "print(test_file.name, \"| rows:\", len(df), \"| cols:\", len(df.columns))\n",
    "df.columns.tolist()[:40]   # quick peek at first 40 column names\n"
   ]
  },
  {
   "cell_type": "code",
   "execution_count": 17,
   "id": "79fb85a3-c2bf-4039-9caf-34484520a4f8",
   "metadata": {},
   "outputs": [
    {
     "data": {
      "text/plain": [
       "(881,\n",
       " Index(['s406ba', 's406bb', 's406bc', 's406bd', 's406be', 's406bx', 's432c',\n",
       "        's440a', 's442a', 's475c'],\n",
       "       dtype='object'))"
      ]
     },
     "execution_count": 17,
     "metadata": {},
     "output_type": "execute_result"
    }
   ],
   "source": [
    "len(df.columns), df.columns[-10:]  # see total columns and last few\n"
   ]
  },
  {
   "cell_type": "code",
   "execution_count": 19,
   "id": "5888dbff-8b0a-4c11-baf9-16285fbd27f8",
   "metadata": {},
   "outputs": [
    {
     "data": {
      "text/plain": [
       "[]"
      ]
     },
     "execution_count": 19,
     "metadata": {},
     "output_type": "execute_result"
    }
   ],
   "source": [
    "# look for either hw70/71/72 or hc70/71/72\n",
    "zscore_hits = [c for c in df.columns if c in (\"hw70\",\"hw71\",\"hw72\",\"hc70\",\"hc71\",\"hc72\")]\n",
    "zscore_hits\n"
   ]
  },
  {
   "cell_type": "code",
   "execution_count": 21,
   "id": "d30b5d13-2a4a-488b-b806-8dd2296cae8c",
   "metadata": {},
   "outputs": [
    {
     "data": {
      "text/plain": [
       "{'b19': False,\n",
       " 'b4': True,\n",
       " 'v106': True,\n",
       " 'v190': False,\n",
       " 'v025': True,\n",
       " 'v024': True,\n",
       " 'v007': True,\n",
       " 'v005': True}"
      ]
     },
     "execution_count": 21,
     "metadata": {},
     "output_type": "execute_result"
    }
   ],
   "source": [
    "hits_basic = {k: (k in df.columns) for k in [\"b19\",\"b4\",\"v106\",\"v190\",\"v025\",\"v024\",\"v007\",\"v005\"]}\n",
    "hits_basic\n"
   ]
  },
  {
   "cell_type": "code",
   "execution_count": null,
   "id": "c2fab46b-8175-4bfd-9647-fcb8519bc2cb",
   "metadata": {},
   "outputs": [],
   "source": []
  }
 ],
 "metadata": {
  "kernelspec": {
   "display_name": "Python 3 (ipykernel)",
   "language": "python",
   "name": "python3"
  },
  "language_info": {
   "codemirror_mode": {
    "name": "ipython",
    "version": 3
   },
   "file_extension": ".py",
   "mimetype": "text/x-python",
   "name": "python",
   "nbconvert_exporter": "python",
   "pygments_lexer": "ipython3",
   "version": "3.12.3"
  }
 },
 "nbformat": 4,
 "nbformat_minor": 5
}
